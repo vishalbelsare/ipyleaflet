{
 "cells": [
  {
   "cell_type": "code",
   "execution_count": null,
   "metadata": {},
   "outputs": [
    {
     "data": {
      "application/vnd.jupyter.widget-view+json": {
       "model_id": "58122d6c27c34d8bb41c7c1f435f45a4",
       "version_major": 2,
       "version_minor": 0
      },
      "text/plain": [
       "Map(center=[43, -100], controls=(ZoomControl(options=['position', 'zoom_in_text', 'zoom_in_title', 'zoom_out_t…"
      ]
     },
     "execution_count": 5,
     "metadata": {},
     "output_type": "execute_result"
    }
   ],
   "source": [
    "from ipyleaflet import (\n",
    "    Map,\n",
    "    Marker,\n",
    "    Choropleth,\n",
    "    ColormapControl,\n",
    "    AwesomeIcon,\n",
    "    basemaps,\n",
    "    basemap_to_tiles,\n",
    ")\n",
    "import json\n",
    "import pandas as pd\n",
    "from branca.colormap import linear\n",
    "\n",
    "center = (43, -100)\n",
    "zoom = 4\n",
    "\n",
    "geo_json_data = json.load(open(\"../us-states.json\"))\n",
    "m1 = Map(center=center, zoom=zoom)\n",
    "unemployment = pd.read_csv(\"../US_Unemployment_Oct2012.csv\")\n",
    "unemployment = dict(\n",
    "    zip(unemployment[\"State\"].tolist(), unemployment[\"Unemployment\"].tolist())\n",
    ")\n",
    "\n",
    "marker1 = Marker(location=(center))\n",
    "\n",
    "layer1 = Choropleth(\n",
    "    geo_data=geo_json_data,\n",
    "    choro_data=unemployment,\n",
    "    colormap=linear.YlOrRd_04,\n",
    "    style={\"fillOpacity\": 0.8, \"dashArray\": \"5, 5\"},\n",
    "    subitems=(marker1,),\n",
    ")\n",
    "\n",
    "colormap_control1 = ColormapControl(\n",
    "    caption=\"Unemployment rate\",\n",
    "    colormap=layer1.colormap,\n",
    "    value_min=layer1.value_min,\n",
    "    value_max=layer1.value_max,\n",
    "    position=\"topright\",\n",
    "    transparent_bg=True,\n",
    ")\n",
    "layer1.subitems = layer1.subitems + (colormap_control1,)\n",
    "layer2 = basemap_to_tiles(basemaps.Esri.WorldStreetMap, subitems=())\n",
    "icon1 = AwesomeIcon(name=\"gear\", marker_color=\"blue\", icon_color=\"darkblue\", spin=False)\n",
    "marker2 = Marker(icon=icon1, location=(center[0], center[1] - 4))\n",
    "layer2.subitems = layer2.subitems + (marker2,)\n",
    "m1.add(layer1)\n",
    "m1.add(layer2)"
   ]
  }
 ],
 "metadata": {
  "kernelspec": {
   "display_name": "Python 3 (ipykernel)",
   "language": "python",
   "name": "python3"
  },
  "language_info": {
   "codemirror_mode": {
    "name": "ipython",
    "version": 3
   },
   "file_extension": ".py",
   "mimetype": "text/x-python",
   "name": "python",
   "nbconvert_exporter": "python",
   "pygments_lexer": "ipython3",
   "version": "3.12.0"
  },
  "vscode": {
   "interpreter": {
    "hash": "4d7e9831f9b20aa8f128d931cc0311348552e4211606356a22b5faacff22e7b0"
   }
  }
 },
 "nbformat": 4,
 "nbformat_minor": 4
}
