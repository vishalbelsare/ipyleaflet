{
 "cells": [
  {
   "cell_type": "code",
   "execution_count": null,
   "metadata": {},
   "outputs": [],
   "source": [
    "from ipyleaflet import Map, basemaps, GeomanDrawControl\n",
    "\n",
    "center = [48.265643898808236, 336.7529296875]\n",
    "\n",
    "m = Map(center=center, zoom=7)\n",
    "\n",
    "draw_control = GeomanDrawControl()\n",
    "draw_control.polyline = {\n",
    "    \"shapeOptions\": {\"color\": \"#6bc2e5\", \"weight\": 8, \"opacity\": 1.0}\n",
    "}\n",
    "draw_control.polygon = {\n",
    "    \"shapeOptions\": {\"fillColor\": \"#6be5c3\", \"color\": \"#6be5c3\", \"fillOpacity\": 1.0},\n",
    "    \"drawError\": {\"color\": \"#dd253b\", \"message\": \"Oups!\"},\n",
    "    \"allowIntersection\": False,\n",
    "}\n",
    "draw_control.circle = {\n",
    "    \"shapeOptions\": {\"fillColor\": \"#efed69\", \"color\": \"#efed69\", \"fillOpacity\": 1.0}\n",
    "}\n",
    "draw_control.rectangle = {\n",
    "    \"shapeOptions\": {\"fillColor\": \"#fca45d\", \"color\": \"#fca45d\", \"fillOpacity\": 1.0}\n",
    "}\n",
    "\n",
    "m.add(draw_control)\n",
    "\n",
    "m"
   ]
  }
 ],
 "metadata": {
  "language_info": {
   "name": "python"
  }
 },
 "nbformat": 4,
 "nbformat_minor": 2
}
