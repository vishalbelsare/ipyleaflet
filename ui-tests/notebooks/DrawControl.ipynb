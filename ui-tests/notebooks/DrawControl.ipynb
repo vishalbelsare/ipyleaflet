{
 "cells": [
  {
   "cell_type": "code",
   "execution_count": null,
   "id": "c20a6cec-25df-44f8-b92d-80a5b2053d3c",
   "metadata": {},
   "outputs": [],
   "source": [
    "from ipyleaflet import Map, basemaps, DrawControl\n",
    "\n",
    "center = [48.265643898808236, 336.7529296875]\n",
    "\n",
    "m = Map(center=center, zoom=7)\n",
    "\n",
    "draw_control = DrawControl()\n",
    "draw_control.polyline = {\n",
    "    \"shapeOptions\": {\"color\": \"#6bc2e5\", \"weight\": 8, \"opacity\": 1.0}\n",
    "}\n",
    "draw_control.polygon = {\n",
    "    \"shapeOptions\": {\"fillColor\": \"#6be5c3\", \"color\": \"#6be5c3\", \"fillOpacity\": 1.0},\n",
    "    \"drawError\": {\"color\": \"#dd253b\", \"message\": \"Oups!\"},\n",
    "    \"allowIntersection\": False,\n",
    "}\n",
    "draw_control.circle = {\n",
    "    \"shapeOptions\": {\"fillColor\": \"#efed69\", \"color\": \"#efed69\", \"fillOpacity\": 1.0}\n",
    "}\n",
    "draw_control.rectangle = {\n",
    "    \"shapeOptions\": {\"fillColor\": \"#fca45d\", \"color\": \"#fca45d\", \"fillOpacity\": 1.0}\n",
    "}\n",
    "\n",
    "m.add(draw_control)\n",
    "\n",
    "m"
   ]
  }
 ],
 "metadata": {
  "kernelspec": {
   "display_name": "Python 3 (ipykernel)",
   "language": "python",
   "name": "python3"
  },
  "language_info": {
   "codemirror_mode": {
    "name": "ipython",
    "version": 3
   },
   "file_extension": ".py",
   "mimetype": "text/x-python",
   "name": "python",
   "nbconvert_exporter": "python",
   "pygments_lexer": "ipython3",
   "version": "3.10.4"
  },
  "widgets": {
   "application/vnd.jupyter.widget-state+json": {
    "state": {},
    "version_major": 2,
    "version_minor": 0
   }
  }
 },
 "nbformat": 4,
 "nbformat_minor": 5
}
